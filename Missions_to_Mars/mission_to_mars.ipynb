{
 "cells": [
  {
   "cell_type": "markdown",
   "id": "buried-feeling",
   "metadata": {},
   "source": [
    "# Setup Code - Use MongoEnv Conda Environment!"
   ]
  },
  {
   "cell_type": "code",
   "execution_count": null,
   "id": "current-seafood",
   "metadata": {},
   "outputs": [],
   "source": [
    "#Import dependencies\n",
    "import pandas as pd\n",
    "import requests\n",
    "from bs4 import BeautifulSoup as bs\n",
    "from splinter import Browser\n",
    "from webdriver_manager.chrome import ChromeDriverManager\n",
    "import pymongo\n",
    "import time"
   ]
  },
  {
   "cell_type": "code",
   "execution_count": null,
   "id": "diagnostic-journal",
   "metadata": {},
   "outputs": [],
   "source": [
    "#Setup Splinter\n",
    "executable_path = {'executable_path': ChromeDriverManager().install()}\n",
    "browser = Browser('chrome', **executable_path, headless=False)"
   ]
  },
  {
   "cell_type": "markdown",
   "id": "running-pattern",
   "metadata": {},
   "source": [
    "# NASA Mars News Scraping"
   ]
  },
  {
   "cell_type": "code",
   "execution_count": null,
   "id": "found-marketplace",
   "metadata": {},
   "outputs": [],
   "source": [
    "#Read in NASA Mars News Site into Python\n",
    "url = \"https://mars.nasa.gov/news/\"\n",
    "browser.visit(url)\n",
    "time.sleep(5)\n",
    "html = browser.html"
   ]
  },
  {
   "cell_type": "code",
   "execution_count": null,
   "id": "loved-failure",
   "metadata": {},
   "outputs": [],
   "source": [
    "#Create a BeautifulSoup Object\n",
    "soup = bs(html, 'html.parser')"
   ]
  },
  {
   "cell_type": "code",
   "execution_count": null,
   "id": "smooth-margin",
   "metadata": {},
   "outputs": [],
   "source": [
    "#Prettiy the HTML we downloaded\n",
    "print(soup.prettify())"
   ]
  },
  {
   "cell_type": "code",
   "execution_count": null,
   "id": "sought-humanitarian",
   "metadata": {},
   "outputs": [],
   "source": [
    "#Find the Latest News Title from NASA website and save in a variable ------ Need help!\n",
    "news_title = soup.find_all('div', class_='content_title')[1].text\n",
    "news_title"
   ]
  },
  {
   "cell_type": "code",
   "execution_count": null,
   "id": "recreational-accounting",
   "metadata": {},
   "outputs": [],
   "source": [
    "#Find the Latest News Paragraph from NASA website and save in a variable ------ Need help!\n",
    "news_p = soup.find_all('div', class_='article_teaser_body')[0].text\n",
    "print(news_p)"
   ]
  },
  {
   "cell_type": "code",
   "execution_count": null,
   "id": "resident-cooper",
   "metadata": {},
   "outputs": [],
   "source": [
    "#Close the browser\n",
    "browser.quit()"
   ]
  },
  {
   "cell_type": "markdown",
   "id": "sudden-wholesale",
   "metadata": {},
   "source": [
    "# MARS Space Images Scraping - Skip per Instructor"
   ]
  },
  {
   "cell_type": "markdown",
   "id": "raised-banner",
   "metadata": {},
   "source": [
    "# NASA Mars Facts Scraping"
   ]
  },
  {
   "cell_type": "code",
   "execution_count": null,
   "id": "metropolitan-opposition",
   "metadata": {},
   "outputs": [],
   "source": [
    "#Use Pandas to scrape the table containing Mars facts from the Mars facts webpage (Pandas can be used to scrape table html)\n",
    "facts_url = 'https://space-facts.com/mars/'\n",
    "facts_table = pd.read_html(facts_url)\n",
    "facts_table"
   ]
  },
  {
   "cell_type": "code",
   "execution_count": null,
   "id": "varied-wallace",
   "metadata": {},
   "outputs": [],
   "source": [
    "#Convert table to a DataFrame, rename column hearders\n",
    "df = facts_table[0]\n",
    "df.columns = ['Interesting Mars Facts', 'Values']\n",
    "df"
   ]
  },
  {
   "cell_type": "code",
   "execution_count": null,
   "id": "raised-honduras",
   "metadata": {},
   "outputs": [],
   "source": [
    "#Use Pandas to convert the data to a HTML table string\n",
    "html_table = df.to_html()\n",
    "#Strip unwanted new lines (/n)\n",
    "html_table.replace('\\n', '')\n",
    "#Save table\n",
    "df.to_html('mars_data_table.html')\n",
    "#Print HTML\n",
    "html_table"
   ]
  },
  {
   "cell_type": "markdown",
   "id": "enormous-leave",
   "metadata": {},
   "source": [
    "# Mars Hemispheres Scraping"
   ]
  },
  {
   "cell_type": "code",
   "execution_count": null,
   "id": "purple-reply",
   "metadata": {},
   "outputs": [],
   "source": [
    "#Setup Splinter\n",
    "executable_path = {'executable_path': ChromeDriverManager().install()}\n",
    "browser = Browser('chrome', **executable_path, headless=False)"
   ]
  },
  {
   "cell_type": "code",
   "execution_count": null,
   "id": "aquatic-stockholm",
   "metadata": {},
   "outputs": [],
   "source": [
    "#Testing\n",
    "hem_url = 'https://astrogeology.usgs.gov/search/results?q=hemisphere+enhanced&k1=target&v1=Mars'\n",
    "browser.visit(hem_url)\n",
    "time.sleep(5)\n",
    "html = browser.html"
   ]
  },
  {
   "cell_type": "code",
   "execution_count": null,
   "id": "considerable-decade",
   "metadata": {},
   "outputs": [],
   "source": [
    "#Finding the main hemisphere links\n",
    "links = browser.find_by_css(\"a.product-item h3\")\n",
    "len(links)"
   ]
  },
  {
   "cell_type": "code",
   "execution_count": null,
   "id": "electric-price",
   "metadata": {},
   "outputs": [],
   "source": [
    "#Create Empty List\n",
    "hemisphere_image_urls = []"
   ]
  },
  {
   "cell_type": "code",
   "execution_count": null,
   "id": "infrared-devil",
   "metadata": {},
   "outputs": [],
   "source": [
    "#Run a for loop to append dictionary\n",
    "for i in range(len(links)):\n",
    "    hemisphere = {}\n",
    "    \n",
    "    # We have to find the elements on each loop to avoid a stale element exception\n",
    "    browser.find_by_css(\"a.product-item h3\")[i].click()\n",
    "    \n",
    "    # Next, we find the Sample image anchor tag and extract the href\n",
    "    sample_elem = browser.links.find_by_text('Sample').first\n",
    "    hemisphere['img_url'] = sample_elem['href']\n",
    "     \n",
    "    # Get Hemisphere title\n",
    "    hemisphere['title'] = browser.find_by_css(\"h2.title\").text\n",
    "    \n",
    "    # Append hemisphere object to list\n",
    "    hemisphere_image_urls.append(hemisphere)\n",
    "    \n",
    "    # Finally, we navigate backwards\n",
    "    browser.back()\n"
   ]
  },
  {
   "cell_type": "code",
   "execution_count": null,
   "id": "exact-vacuum",
   "metadata": {},
   "outputs": [],
   "source": [
    "#Check your dictionary\n",
    "print(hemisphere_image_urls)"
   ]
  },
  {
   "cell_type": "code",
   "execution_count": null,
   "id": "registered-waste",
   "metadata": {},
   "outputs": [],
   "source": [
    "#Close the browser\n",
    "browser.quit()"
   ]
  },
  {
   "cell_type": "code",
   "execution_count": null,
   "id": "ranging-kingston",
   "metadata": {},
   "outputs": [],
   "source": []
  }
 ],
 "metadata": {
  "kernelspec": {
   "display_name": "Python [conda env:MongoEnv] *",
   "language": "python",
   "name": "conda-env-MongoEnv-py"
  },
  "language_info": {
   "codemirror_mode": {
    "name": "ipython",
    "version": 3
   },
   "file_extension": ".py",
   "mimetype": "text/x-python",
   "name": "python",
   "nbconvert_exporter": "python",
   "pygments_lexer": "ipython3",
   "version": "3.8.5"
  }
 },
 "nbformat": 4,
 "nbformat_minor": 5
}
